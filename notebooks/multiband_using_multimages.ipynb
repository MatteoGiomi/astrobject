{
 "cells": [
  {
   "cell_type": "code",
   "execution_count": 1,
   "metadata": {
    "collapsed": false
   },
   "outputs": [
    {
     "name": "stderr",
     "output_type": "stream",
     "text": [
      "WARNING: AstropyDeprecationWarning: Config parameter 'default_cosmology' in section [astropy.cosmology.core] is deprecated. Use science state astropy.cosmology.core.default_cosmology instead. [astropy.utils.state]\n",
      "WARNING:astropy:AstropyDeprecationWarning: Config parameter 'default_cosmology' in section [astropy.cosmology.core] is deprecated. Use science state astropy.cosmology.core.default_cosmology instead.\n"
     ]
    }
   ],
   "source": [
    "# - plot within the notebook\n",
    "%matplotlib inline\n",
    "# - AstrObject Module \n",
    "from astrobject.utils.tools import load_pkl\n",
    "from astrobject.astrobject import astrotarget\n",
    "# - The multiband tools\n",
    "from astrobject.astrobject import multiband"
   ]
  },
  {
   "cell_type": "code",
   "execution_count": 2,
   "metadata": {
    "collapsed": true
   },
   "outputs": [],
   "source": [
    "# -------------------------\n",
    "# - Build the astrotarget\n",
    "# -------------------------\n",
    "dicosn = load_pkl(\"data/PTF10qjq_sninfo.pkl\")\n",
    "sn = astrotarget(name=dicosn[\"object\"], zcmb=dicosn[\"zcmb\"],\n",
    "                ra=dicosn[\"Ra\"],dec=dicosn[\"Dec\"],\n",
    "                type_=dicosn[\"type\"],forced_mwebmv=dicosn[\"MWebmv\"])\n",
    "# -------------------------\n",
    "# - Get the Images\n",
    "# -------------------------\n",
    "sdss_bands = [\"data/sdss_PTF10qjq_%s.fits\"%band for band in [\"u\",\"g\",\"r\",\"i\",\"z\"]]\n",
    "# -------------------------\n",
    "# - And load the corresponding multiband object\n",
    "# -------------------------\n",
    "sed = multiband.multimages(sn,sdss_bands)"
   ]
  },
  {
   "cell_type": "code",
   "execution_count": 7,
   "metadata": {
    "collapsed": false
   },
   "outputs": [
    {
     "name": "stdout",
     "output_type": "stream",
     "text": [
      "These are the object basic information\n",
      "['g', 'i', 'r', 'u', 'z'] [4686.0, 7480.0, 6166.0, 3551.0, 8932.0] ['SDSS', 'SDSS', 'SDSS', 'SDSS', 'SDSS'] PTF10qjq\n",
      "The photopoints and images are associated to labels. By default, the band name\n",
      "['g' 'i' 'r' 'u' 'z']\n"
     ]
    }
   ],
   "source": [
    "print \"These are the object basic information\"\n",
    "print sed.bands, sed.lbdas, sed.instruments, sed.target.name\n",
    "print \"The photopoints and images are associated to labels. By default, the band name\"\n",
    "print sed.labellist"
   ]
  },
  {
   "cell_type": "code",
   "execution_count": 5,
   "metadata": {
    "collapsed": false
   },
   "outputs": [
    {
     "name": "stderr",
     "output_type": "stream",
     "text": [
      "//anaconda/lib/python2.7/site-packages/matplotlib/figure.py:387: UserWarning: matplotlib is currently using a non-GUI backend, so cannot show the figure\n",
      "  \"matplotlib is currently using a non-GUI backend, \"\n",
      "//anaconda/lib/python2.7/site-packages/matplotlib/collections.py:590: FutureWarning: elementwise comparison failed; returning scalar instead, but in the future will perform elementwise comparison\n",
      "  if self._edgecolors == str('face'):\n"
     ]
    },
    {
     "data": {
      "image/png": "[encoded data removed]",
      "text/plain": [
       "<matplotlib.figure.Figure at 0x1230a6410>"
      ]
     },
     "metadata": {},
     "output_type": "display_data"
    }
   ],
   "source": [
    "# - Show an example:\n",
    "sed.show()"
   ]
  },
  {
   "cell_type": "code",
   "execution_count": null,
   "metadata": {
    "collapsed": true
   },
   "outputs": [],
   "source": []
  }
 ],
 "metadata": {
  "kernelspec": {
   "display_name": "Python 2",
   "language": "python",
   "name": "python2"
  },
  "language_info": {
   "codemirror_mode": {
    "name": "ipython",
    "version": 2
   },
   "file_extension": ".py",
   "mimetype": "text/x-python",
   "name": "python",
   "nbconvert_exporter": "python",
   "pygments_lexer": "ipython2",
   "version": "2.7.10"
  }
 },
 "nbformat": 4,
 "nbformat_minor": 0
}
