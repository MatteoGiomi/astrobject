{
 "cells": [
  {
   "cell_type": "code",
   "execution_count": 1,
   "metadata": {
    "collapsed": false
   },
   "outputs": [],
   "source": [
    "# - plot within the notebook\n",
    "%matplotlib inline\n",
    "import warnings\n",
    "warnings.filterwarnings('ignore')\n",
    "# - AstrObject Module \n",
    "from astrobject.utils.tools import load_pkl\n",
    "from astrobject.astrobject.baseobject import astrotarget\n",
    "# - The multiband tools\n",
    "from astrobject.astrobject import multiband"
   ]
  },
  {
   "cell_type": "code",
   "execution_count": 2,
   "metadata": {
    "collapsed": false
   },
   "outputs": [],
   "source": [
    "# -------------------------\n",
    "# - Build the astrotarget\n",
    "# -------------------------\n",
    "dicosn = load_pkl(\"data/PTF10qjq_sninfo.pkl\")\n",
    "sn = astrotarget(name=dicosn[\"object\"], zcmb=dicosn[\"zcmb\"],\n",
    "                ra=dicosn[\"Ra\"],dec=dicosn[\"Dec\"],\n",
    "                type_=dicosn[\"type\"],forced_mwebmv=dicosn[\"MWebmv\"])\n",
    "# -------------------------\n",
    "# - Get the Images\n",
    "# -------------------------\n",
    "sdss_bands = [\"data/sdss_PTF10qjq_%s.fits\"%band for band in [\"u\",\"g\",\"r\",\"i\",\"z\"]]\n",
    "# -------------------------\n",
    "# - And load the corresponding multiband object\n",
    "# -------------------------\n",
    "sed = multiband.multimages(sn,sdss_bands)"
   ]
  },
  {
   "cell_type": "code",
   "execution_count": 3,
   "metadata": {
    "collapsed": false
   },
   "outputs": [
    {
     "name": "stdout",
     "output_type": "stream",
     "text": [
      "These are the object basic information\n",
      "['sdssg', 'sdssi', 'sdssr', 'sdssu', 'sdssz'] [4717.599777463944, 7506.238080315171, 6186.799969752947, 3594.3253668988173, 8918.301484406344] ['SDSS', 'SDSS', 'SDSS', 'SDSS', 'SDSS'] PTF10qjq\n",
      "The photopoints and images are associated to labels. By default, the band name\n",
      "['sdssg' 'sdssi' 'sdssr' 'sdssu' 'sdssz']\n"
     ]
    }
   ],
   "source": [
    "print \"These are the object basic information\"\n",
    "print sed.bands, sed.lbdas, sed.instruments, sed.target.name\n",
    "print \"The photopoints and images are associated to labels. By default, the band name\"\n",
    "print sed.labellist"
   ]
  },
  {
   "cell_type": "code",
   "execution_count": 4,
   "metadata": {
    "collapsed": false
   },
   "outputs": [
    {
     "data": {
      "image/png": "[encoded data removed]",
      "text/plain": [
       "<matplotlib.figure.Figure at 0x109022b10>"
      ]
     },
     "metadata": {},
     "output_type": "display_data"
    }
   ],
   "source": [
    "# - Show an example:\n",
    "sed.show()"
   ]
  },
  {
   "cell_type": "code",
   "execution_count": null,
   "metadata": {
    "collapsed": true
   },
   "outputs": [],
   "source": []
  }
 ],
 "metadata": {
  "kernelspec": {
   "display_name": "Python 2",
   "language": "python",
   "name": "python2"
  },
  "language_info": {
   "codemirror_mode": {
    "name": "ipython",
    "version": 2
   },
   "file_extension": ".py",
   "mimetype": "text/x-python",
   "name": "python",
   "nbconvert_exporter": "python",
   "pygments_lexer": "ipython2",
   "version": "2.7.10"
  }
 },
 "nbformat": 4,
 "nbformat_minor": 0
}
