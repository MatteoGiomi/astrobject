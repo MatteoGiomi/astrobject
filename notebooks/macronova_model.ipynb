{
 "cells": [
  {
   "cell_type": "markdown",
   "metadata": {},
   "source": [
    "# Constructing a macronova model using sncosmo\n",
    "\n",
    "Required ingredients:\n",
    "* SED for a set of phases, split into 3 numpy arrays:\n",
    " * phase: shape N\n",
    " * wavelength: shape M\n",
    " * flux: shape NxM"
   ]
  },
  {
   "cell_type": "code",
   "execution_count": 20,
   "metadata": {
    "collapsed": false
   },
   "outputs": [],
   "source": [
    "import numpy as np\n",
    "import matplotlib.pyplot as plt\n",
    "\n",
    "import sncosmo\n",
    "import warnings\n",
    "warnings.filterwarnings('ignore')"
   ]
  },
  {
   "cell_type": "code",
   "execution_count": 17,
   "metadata": {
    "collapsed": true
   },
   "outputs": [],
   "source": [
    "mn_sed = np.genfromtxt('data/mn_runB_sed.dat')\n",
    "phase = np.unique(mn_sed[:,0])\n",
    "wave = mn_sed[mn_sed[:,0] == 0][:,1]\n",
    "flux = np.array([mn_sed[mn_sed[:,0] == p][:,2] for p in phase])"
   ]
  },
  {
   "cell_type": "markdown",
   "metadata": {},
   "source": [
    "Use these arrays to define a source which then defines a model"
   ]
  },
  {
   "cell_type": "code",
   "execution_count": 28,
   "metadata": {
    "collapsed": false
   },
   "outputs": [
    {
     "name": "stdout",
     "output_type": "stream",
     "text": [
      "['z', 't0', 'amplitude']\n",
      "[ 0.  0.  1.]\n"
     ]
    }
   ],
   "source": [
    "source = sncosmo.TimeSeriesSource(phase, wave, flux)\n",
    "model = sncosmo.Model(source=source)\n",
    "\n",
    "print model.param_names\n",
    "print model.parameters"
   ]
  },
  {
   "cell_type": "markdown",
   "metadata": {},
   "source": [
    "Such a model only has three parameter (see above). \n",
    "\n",
    "To get magnitudes first set redshift and peak absolute magnitude."
   ]
  },
  {
   "cell_type": "code",
   "execution_count": 31,
   "metadata": {
    "collapsed": false
   },
   "outputs": [
    {
     "name": "stdout",
     "output_type": "stream",
     "text": [
      "Model parameter \"amplitude\" now set to: 1.1593275335e-22\n"
     ]
    },
    {
     "data": {
      "image/png": "[encoded data removed]",
      "text/plain": [
       "<matplotlib.figure.Figure at 0x7f9c6f0d8d10>"
      ]
     },
     "metadata": {},
     "output_type": "display_data"
    }
   ],
   "source": [
    "model.set(z=0.01)\n",
    "model.set_source_peakabsmag(-12.2, 'bessellr', 'vega')\n",
    "\n",
    "print 'Model parameter \"amplitude\" now set to:', model.parameters[2] \n",
    "\n",
    "mag = model.bandmag('bessellr', 'vega', phase)\n",
    "plt.plot(phase, mag)\n",
    "plt.xlabel('phase',fontsize='x-large')\n",
    "plt.ylabel(r'$R$',fontsize='x-large')\n",
    "plt.gca().invert_yaxis()"
   ]
  },
  {
   "cell_type": "markdown",
   "metadata": {
    "collapsed": false
   },
   "source": [
    "You can also include the effect of Milk Way dust when defining the model."
   ]
  },
  {
   "cell_type": "code",
   "execution_count": 27,
   "metadata": {
    "collapsed": false
   },
   "outputs": [
    {
     "name": "stdout",
     "output_type": "stream",
     "text": [
      "['z', 't0', 'amplitude', 'mwebv', 'mwr_v']\n",
      "[ 0.   0.   1.   0.   3.1]\n"
     ]
    }
   ],
   "source": [
    "dust = sncosmo.CCM89Dust()\n",
    "model = sncosmo.Model(source=source,\n",
    "                      effects=[dust],\n",
    "                      effect_names=['mw'],\n",
    "                      effect_frames=['obs'])\n",
    "\n",
    "print model.param_names\n",
    "print model.parameters"
   ]
  },
  {
   "cell_type": "markdown",
   "metadata": {},
   "source": [
    "This added two new parameters: $E(B-V)$ and $R_V$.\n",
    "\n",
    "Note that astrobject expects these parameters when simulating light-curves.\n",
    "\n",
    "We can also include the same effect in restframe to add host extinction."
   ]
  },
  {
   "cell_type": "code",
   "execution_count": 37,
   "metadata": {
    "collapsed": false
   },
   "outputs": [
    {
     "name": "stdout",
     "output_type": "stream",
     "text": [
      "['z', 't0', 'amplitude', 'mwebv', 'mwr_v', 'hostebv', 'hostr_v']\n",
      "[ 0.   0.   1.   0.   3.1  0.   3.1]\n"
     ]
    }
   ],
   "source": [
    "model = sncosmo.Model(source=source,\n",
    "                      effects=[dust,dust],\n",
    "                      effect_names=['mw', 'host'],\n",
    "                      effect_frames=['obs', 'rest'])\n",
    "\n",
    "print model.param_names\n",
    "print model.parameters"
   ]
  },
  {
   "cell_type": "code",
   "execution_count": null,
   "metadata": {
    "collapsed": true
   },
   "outputs": [],
   "source": []
  }
 ],
 "metadata": {
  "kernelspec": {
   "display_name": "Python 2",
   "language": "python",
   "name": "python2"
  },
  "language_info": {
   "codemirror_mode": {
    "name": "ipython",
    "version": 2
   },
   "file_extension": ".py",
   "mimetype": "text/x-python",
   "name": "python",
   "nbconvert_exporter": "python",
   "pygments_lexer": "ipython2",
   "version": "2.7.6"
  }
 },
 "nbformat": 4,
 "nbformat_minor": 0
}
