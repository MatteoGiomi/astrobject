{
 "cells": [
  {
   "cell_type": "markdown",
   "metadata": {},
   "source": [
    "# Constructing a macronova model using sncosmo\n",
    "\n",
    "Required ingredients:\n",
    "* SED for a set of phases, split into 3 numpy arrays:\n",
    " * phase: shape N\n",
    " * wavelength: shape M\n",
    " * flux: shape NxM\n",
    " \n",
    "To use this notebook, please download the [macronova template](http://www.oir.caltech.edu/twiki_ptf/bin/viewfile/ZTF/SNeIa?rev=1;filename=mn_runB_sed.dat) from the ZTF Twiki and place it in notebooks/data/"
   ]
  },
  {
   "cell_type": "code",
   "execution_count": 3,
   "metadata": {
    "collapsed": false
   },
   "outputs": [],
   "source": [
    "import numpy as np\n",
    "import matplotlib.pyplot as plt\n",
    "import warnings\n",
    "warnings.filterwarnings('ignore')\n",
    "import sncosmo\n"
   ]
  },
  {
   "cell_type": "code",
   "execution_count": 4,
   "metadata": {
    "collapsed": false
   },
   "outputs": [],
   "source": [
    "mn_sed = np.genfromtxt('data/mn_runB_sed.dat')\n",
    "phase = np.unique(mn_sed[:,0])\n",
    "wave = mn_sed[mn_sed[:,0] == 0][:,1]\n",
    "flux = np.array([mn_sed[mn_sed[:,0] == p][:,2] for p in phase])"
   ]
  },
  {
   "cell_type": "markdown",
   "metadata": {},
   "source": [
    "Use these arrays to define a source which then defines a model"
   ]
  },
  {
   "cell_type": "code",
   "execution_count": 5,
   "metadata": {
    "collapsed": false
   },
   "outputs": [
    {
     "name": "stdout",
     "output_type": "stream",
     "text": [
      "['z', 't0', 'amplitude']\n",
      "[ 0.  0.  1.]\n"
     ]
    }
   ],
   "source": [
    "source = sncosmo.TimeSeriesSource(phase, wave, flux)\n",
    "model = sncosmo.Model(source=source)\n",
    "\n",
    "print model.param_names\n",
    "print model.parameters"
   ]
  },
  {
   "cell_type": "markdown",
   "metadata": {},
   "source": [
    "Such a model only has three parameter (see above). \n",
    "\n",
    "To get magnitudes first set redshift and peak absolute magnitude."
   ]
  },
  {
   "cell_type": "code",
   "execution_count": 7,
   "metadata": {
    "collapsed": false
   },
   "outputs": [
    {
     "name": "stdout",
     "output_type": "stream",
     "text": [
      "Model parameter \"amplitude\" now set to: 1.17811524042e-22\n"
     ]
    }
   ],
   "source": [
    "model.set(z=0.01)\n",
    "model.set_source_peakabsmag(-12.2, 'bessellr', 'vega')\n",
    "\n",
    "print 'Model parameter \"amplitude\" now set to:', model.parameters[2] \n",
    "\n",
    "mag = model.bandmag('bessellr', 'vega', phase)\n",
    "plt.plot(phase, mag)\n",
    "plt.xlabel('phase',fontsize='x-large')\n",
    "plt.ylabel(r'$R$',fontsize='x-large')\n",
    "plt.gca().invert_yaxis()"
   ]
  },
  {
   "cell_type": "markdown",
   "metadata": {
    "collapsed": false
   },
   "source": [
    "You can also include the effect of Milk Way dust when defining the model."
   ]
  },
  {
   "cell_type": "code",
   "execution_count": 8,
   "metadata": {
    "collapsed": false
   },
   "outputs": [
    {
     "name": "stdout",
     "output_type": "stream",
     "text": [
      "['z', 't0', 'amplitude', 'mwebv', 'mwr_v']\n",
      "[ 0.   0.   1.   0.   3.1]\n"
     ]
    }
   ],
   "source": [
    "dust = sncosmo.CCM89Dust()\n",
    "model = sncosmo.Model(source=source,\n",
    "                      effects=[dust],\n",
    "                      effect_names=['mw'],\n",
    "                      effect_frames=['obs'])\n",
    "\n",
    "print model.param_names\n",
    "print model.parameters"
   ]
  },
  {
   "cell_type": "markdown",
   "metadata": {},
   "source": [
    "This added two new parameters: $E(B-V)$ and $R_V$.\n",
    "\n",
    "Note that astrobject checks for these parameters before using a model and adds the effect if necessary. $E(B-V)$ will automatically be read from the SFD98 dust maps.\n",
    "\n",
    "We can also include the same effect in restframe to add host extinction."
   ]
  },
  {
   "cell_type": "code",
   "execution_count": 8,
   "metadata": {
    "collapsed": false
   },
   "outputs": [
    {
     "name": "stdout",
     "output_type": "stream",
     "text": [
      "['z', 't0', 'amplitude', 'mwebv', 'mwr_v', 'hostebv', 'hostr_v']\n",
      "[ 0.   0.   1.   0.   3.1  0.   3.1]\n"
     ]
    }
   ],
   "source": [
    "model = sncosmo.Model(source=source,\n",
    "                      effects=[dust,dust],\n",
    "                      effect_names=['mw', 'host'],\n",
    "                      effect_frames=['obs', 'rest'])\n",
    "\n",
    "print model.param_names\n",
    "print model.parameters"
   ]
  },
  {
   "cell_type": "markdown",
   "metadata": {},
   "source": [
    "## Using the macronova model in a simulated survey\n",
    "\n",
    "sncosmo sources/models can be passed to astrobject.TransientGenerator and then used like the SNIaGenerator in survey_plan_and_lightcurves.ipynb\n",
    "\n",
    "In addition to the source/model you just need to define a function that draws the lightcurve parameters. This function expects to get the redshifts and the lightcurve model as arguments. The latter is needed, so you can set the peak magnitude."
   ]
  },
  {
   "cell_type": "code",
   "execution_count": 10,
   "metadata": {
    "collapsed": true
   },
   "outputs": [],
   "source": [
    "def _random_mn_amplitude(redshifts, model, **kwargs):\n",
    "    amp = []\n",
    "    for z in redshifts:\n",
    "        model.set(z=z)\n",
    "        mabs = np.random.normal(-12.2, 2.0)\n",
    "        model.set_source_peakabsmag(mabs, 'bessellr', 'ab')\n",
    "        amp.append(model.get('amplitude'))\n",
    "\n",
    "    return {'amplitude': np.array(amp)}"
   ]
  },
  {
   "cell_type": "markdown",
   "metadata": {},
   "source": [
    "Now create a TransientGenerator with a custom rate of $3\\cdot10^{-7}$ Mpc$^{-3}$ yr$^{-1}$ and the macronova template. The rate should be passed as a function of redshift (even if it is constant). The default survey time range is set to 3 years."
   ]
  },
  {
   "cell_type": "code",
   "execution_count": 11,
   "metadata": {
    "collapsed": false
   },
   "outputs": [],
   "source": [
    "import astrobject.simulation as simul\n",
    "tr = simul.get_transient_generator([0.0, 1.0], ratekind='custom', ratefunc=lambda z: 3e-7, \n",
    "                                   transientprop=dict(lcsource=source,lcsimul_func=_random_mn_amplitude))"
   ]
  },
  {
   "cell_type": "code",
   "execution_count": 12,
   "metadata": {
    "collapsed": false
   },
   "outputs": [
    {
     "data": {
      "text/plain": [
       "{'ax': <matplotlib.projections.geo.MollweideAxes at 0x1098cdd90>,\n",
       " 'cbar': <matplotlib.colorbar.Colorbar instance at 0x1098eef80>,\n",
       " 'figure': <matplotlib.figure.Figure at 0x1098c7a10>,\n",
       " 'plot': <matplotlib.collections.PathCollection at 0x10f385f10>}"
      ]
     },
     "execution_count": 12,
     "metadata": {},
     "output_type": "execute_result"
    }
   ],
   "source": [
    "# Plot of generated MNe (make cut at R = 25, leaving ~500 MNe)\n",
    "peak_mag = tr.get_bandmag(band='bessellr', magsys='vega', t=0) # t is time relative to t0\n",
    "tr.show_skycoverage(cscale=peak_mag, cblabel=\"Peak R-band magnitude\", vmin=None, vmax=25, mask=(peak_mag < 25))"
   ]
  },
  {
   "cell_type": "code",
   "execution_count": 25,
   "metadata": {
    "collapsed": false
   },
   "outputs": [
    {
     "name": "stdout",
     "output_type": "stream",
     "text": [
      "R < 18.0:     0 MNe\n",
      "R < 18.5:     0 MNe\n",
      "R < 19.0:     2 MNe\n",
      "R < 19.5:     2 MNe\n",
      "R < 20.0:     2 MNe\n",
      "R < 20.5:     5 MNe\n",
      "R < 21.0:     8 MNe\n",
      "R < 21.5:    11 MNe\n",
      "R < 22.0:    21 MNe\n",
      "R < 22.5:    36 MNe\n",
      "R < 23.0:    72 MNe\n",
      "R < 23.5:   127 MNe\n",
      "R < 24.0:   220 MNe\n",
      "R < 24.5:   362 MNe\n",
      "R < 25.0:   571 MNe\n",
      "-------------------\n",
      "total:    80831 MNe\n"
     ]
    }
   ],
   "source": [
    "# There are only few MNe at R < 21 (Remember that this is for observing everything out to z = 1.0 for three years.) \n",
    "for R in np.arange(18,25.1,0.5):\n",
    "    print 'R < {}: {:>5} MNe'.format(R, np.sum(peak_mag < R))\n",
    "   \n",
    "print '-------------------'\n",
    "print 'total:    {:>5} MNe'.format(len(peak_mag))"
   ]
  },
  {
   "cell_type": "code",
   "execution_count": null,
   "metadata": {
    "collapsed": true
   },
   "outputs": [],
   "source": []
  }
 ],
 "metadata": {
  "kernelspec": {
   "display_name": "Python 2",
   "language": "python",
   "name": "python2"
  },
  "language_info": {
   "codemirror_mode": {
    "name": "ipython",
    "version": 2
   },
   "file_extension": ".py",
   "mimetype": "text/x-python",
   "name": "python",
   "nbconvert_exporter": "python",
   "pygments_lexer": "ipython2",
   "version": "2.7.6"
  }
 },
 "nbformat": 4,
 "nbformat_minor": 0
}
